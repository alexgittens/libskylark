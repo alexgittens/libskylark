{
 "metadata": {
  "name": ""
 },
 "nbformat": 3,
 "nbformat_minor": 0,
 "worksheets": [
  {
   "cells": [
    {
     "cell_type": "markdown",
     "metadata": {},
     "source": [
      "### Random sparse matrix"
     ]
    },
    {
     "cell_type": "code",
     "collapsed": false,
     "input": [
      "import numpy as np\n",
      "from scipy.sparse import rand as rand_matrix\n",
      "A = rand_matrix(200, 200, density=0.01, format='csc', dtype=np.float64, random_state=None)\n",
      "\n",
      "fig = figure()\n",
      "ax1 = fig.add_subplot(111)\n",
      "ax1.spy(A)"
     ],
     "language": "python",
     "metadata": {},
     "outputs": [
      {
       "metadata": {},
       "output_type": "pyout",
       "prompt_number": 22,
       "text": [
        "<matplotlib.lines.Line2D at 0x7fb12df2ae50>"
       ]
      },
      {
       "metadata": {},
       "output_type": "display_data",
       "png": "[encoded data removed]",
       "text": [
        "<matplotlib.figure.Figure at 0x7fb12e0d2ad0>"
       ]
      }
     ],
     "prompt_number": 22
    },
    {
     "cell_type": "markdown",
     "metadata": {},
     "source": [
      "### Compute the radominzed SVD"
     ]
    },
    {
     "cell_type": "code",
     "collapsed": false,
     "input": [
      "import El\n",
      "from mpi4py import MPI\n",
      "from skylark.nla import svd as randsvd\n",
      "\n",
      "parms = randsvd.Params()\n",
      "parms.num_iterations = 10\n",
      "k = 50\n",
      "\n",
      "(U, S, V) = randsvd.approximate_svd(A, k, parms, resultType=El.Matrix())\n",
      "print S.ToNumPy()[:5]"
     ],
     "language": "python",
     "metadata": {},
     "outputs": [
      {
       "output_type": "stream",
       "stream": "stdout",
       "text": [
        "[[ 2.00661822]\n",
        " [ 1.92579854]\n",
        " [ 1.89351309]\n",
        " [ 1.85552438]\n",
        " [ 1.82731925]]\n"
       ]
      }
     ],
     "prompt_number": 27
    },
    {
     "cell_type": "markdown",
     "metadata": {},
     "source": [
      "### Compare to scipy SVD"
     ]
    },
    {
     "cell_type": "code",
     "collapsed": false,
     "input": [
      "from scipy import linalg\n",
      "Us, Ss, Vs = linalg.svd(A.todense())\n",
      "print Ss[:5]"
     ],
     "language": "python",
     "metadata": {},
     "outputs": [
      {
       "output_type": "stream",
       "stream": "stdout",
       "text": [
        "[ 2.00661822  1.92579854  1.89351309  1.85552438  1.82731925]\n"
       ]
      }
     ],
     "prompt_number": 26
    }
   ],
   "metadata": {}
  }
 ]
}
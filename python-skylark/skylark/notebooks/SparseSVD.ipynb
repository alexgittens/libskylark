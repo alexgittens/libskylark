{
 "cells": [
  {
   "cell_type": "markdown",
   "metadata": {},
   "source": [
    "### Generate a random sparse matrix"
   ]
  },
  {
   "cell_type": "code",
   "execution_count": null,
   "metadata": {
    "collapsed": false
   },
   "outputs": [],
   "source": [
    "%matplotlib inline\n",
    "from matplotlib.pyplot import *\n",
    "\n",
    "import numpy as np\n",
    "from scipy.sparse import rand as rand_matrix\n",
    "A = rand_matrix(200, 200, density=0.01, format='csc', dtype=np.float64, random_state=None)\n",
    "\n",
    "fig = figure()\n",
    "ax1 = fig.add_subplot(111)\n",
    "ax1.spy(A)"
   ]
  },
  {
   "cell_type": "markdown",
   "metadata": {},
   "source": [
    "### Compute and approximate SVD using libSkylark"
   ]
  },
  {
   "cell_type": "code",
   "execution_count": null,
   "metadata": {
    "collapsed": false
   },
   "outputs": [],
   "source": [
    "import El\n",
    "import skylark.nla\n",
    "\n",
    "parms = skylark.nla.SVDParams()\n",
    "parms.num_iterations = 10\n",
    "k = 50\n",
    "\n",
    "U = El.Matrix()\n",
    "S = El.Matrix()\n",
    "V = El.Matrix()\n",
    "skylark.nla.approximate_svd(A, U, S, V, k, parms)\n",
    "print S.ToNumPy()[:5]"
   ]
  },
  {
   "cell_type": "markdown",
   "metadata": {},
   "source": [
    "### Compare to scipy SVD"
   ]
  },
  {
   "cell_type": "code",
   "execution_count": null,
   "metadata": {
    "collapsed": false
   },
   "outputs": [],
   "source": [
    "from scipy import linalg\n",
    "Us, Ss, Vs = linalg.svd(A.todense())\n",
    "print Ss[:5]"
   ]
  }
 ],
 "metadata": {
  "kernelspec": {
   "display_name": "Python 2",
   "language": "python",
   "name": "python2"
  },
  "language_info": {
   "codemirror_mode": {
    "name": "ipython",
    "version": 2
   },
   "file_extension": ".py",
   "mimetype": "text/x-python",
   "name": "python",
   "nbconvert_exporter": "python",
   "pygments_lexer": "ipython2",
   "version": "2.7.11"
  }
 },
 "nbformat": 4,
 "nbformat_minor": 0
}
